{
 "cells": [
  {
   "cell_type": "code",
   "execution_count": 2,
   "id": "ba04a8ae-9643-4492-95b5-2a684ef02445",
   "metadata": {},
   "outputs": [
    {
     "name": "stdout",
     "output_type": "stream",
     "text": [
      "GIF saved as EllipseHourlyv3.gif\n"
     ]
    }
   ],
   "source": [
    "from PIL import Image\n",
    "import os, sys\n",
    "# Directory containing the images\n",
    "image_dir = r'C:\\Users\\Zelda64\\Documents\\Programming\\dust_solar_power\\Images\\Gif13'\n",
    "\n",
    "# List the files in the directory\n",
    "files = sorted(os.listdir(image_dir))\n",
    "# Create GIF filename\n",
    "gif_filename = 'EllipseHourlyv3.gif'\n",
    "\n",
    "# Open the first image to get its size\n",
    "first_image_path = os.path.join(image_dir, files[0])\n",
    "first_image = Image.open(first_image_path)\n",
    "\n",
    "# Create GIF\n",
    "frames = []\n",
    "for file in files:\n",
    "    image_path = os.path.join(image_dir, file)\n",
    "    frame = Image.open(image_path)\n",
    "    frames.append(frame)\n",
    "# Save GIF\n",
    "frames[0].save(gif_filename, format='GIF', append_images=frames[1:], save_all=True, duration=1000, loop=0)\n",
    "\n",
    "print(f'GIF saved as {gif_filename}')"
   ]
  },
  {
   "cell_type": "code",
   "execution_count": null,
   "id": "a227ea39-0e1d-4074-8f1a-9fae52bbfacf",
   "metadata": {},
   "outputs": [],
   "source": []
  }
 ],
 "metadata": {
  "kernelspec": {
   "display_name": "Conda",
   "language": "python",
   "name": "conda"
  },
  "language_info": {
   "codemirror_mode": {
    "name": "ipython",
    "version": 3
   },
   "file_extension": ".py",
   "mimetype": "text/x-python",
   "name": "python",
   "nbconvert_exporter": "python",
   "pygments_lexer": "ipython3",
   "version": "3.12.1"
  }
 },
 "nbformat": 4,
 "nbformat_minor": 5
}
